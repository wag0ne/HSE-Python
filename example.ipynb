{
 "cells": [
  {
   "cell_type": "markdown",
   "metadata": {},
   "source": [
    "## Пример использования API"
   ]
  },
  {
   "cell_type": "markdown",
   "metadata": {},
   "source": [
    "Импортируем нужные библиотеки"
   ]
  },
  {
   "cell_type": "code",
   "execution_count": 1,
   "metadata": {
    "ExecuteTime": {
     "end_time": "2021-10-29T15:19:35.326443Z",
     "start_time": "2021-10-29T15:19:32.625516Z"
    }
   },
   "outputs": [],
   "source": [
    "import requests\n",
    "import pandas as pd\n",
    "\n",
    "from sklearn.datasets import make_classification, make_regression\n",
    "from sklearn.model_selection import train_test_split"
   ]
  },
  {
   "cell_type": "code",
   "execution_count": 2,
   "metadata": {},
   "outputs": [],
   "source": [
    "SEED = 42\n",
    "T_SIZE = 0.2"
   ]
  },
  {
   "cell_type": "markdown",
   "metadata": {},
   "source": [
    "**Генерим выборки для разного типа задачи**\n",
    "\\\n",
    "Будем склеивать данные в один датафрейм, чтобы не поехали индексы обьектов, тк передаем через json."
   ]
  },
  {
   "cell_type": "code",
   "execution_count": 3,
   "metadata": {},
   "outputs": [],
   "source": [
    "# Классификация\n",
    "X, y = make_classification(n_samples=25000, n_features=4, n_informative=2, n_classes=2, random_state=SEED)\n",
    "\n",
    "data_clf = pd.DataFrame(X)\n",
    "data_clf['target'] = y\n",
    "\n",
    "X_train, X_test = train_test_split(data_clf, test_size=T_SIZE, random_state=SEED, shuffle=True, stratify=y)"
   ]
  },
  {
   "cell_type": "code",
   "execution_count": 4,
   "metadata": {},
   "outputs": [],
   "source": [
    "# Регрессия\n",
    "X_reg, y_reg = make_regression(n_samples=25000, n_features=10, n_informative=5, random_state=SEED)\n",
    "\n",
    "data_reg = pd.DataFrame(X_reg)\n",
    "data_reg['target'] = y_reg\n",
    "\n",
    "Xr_train, Xr_test = train_test_split(data_reg, test_size=T_SIZE, random_state=SEED, shuffle=True)"
   ]
  },
  {
   "cell_type": "markdown",
   "metadata": {},
   "source": [
    "**Смотрим возможные модели**"
   ]
  },
  {
   "cell_type": "code",
   "execution_count": 5,
   "metadata": {
    "ExecuteTime": {
     "end_time": "2021-10-29T15:19:35.403480Z",
     "start_time": "2021-10-29T15:19:35.383543Z"
    }
   },
   "outputs": [
    {
     "name": "stdout",
     "output_type": "stream",
     "text": [
      "Current task 'binary':\n",
      "    Available models: ['LogisticRegression', 'CatBoostClassifier']\n"
     ]
    }
   ],
   "source": [
    "print(requests.get('http://127.0.0.1:5000/api/get_possible_model', json=X_train.to_dict()).text)"
   ]
  },
  {
   "cell_type": "markdown",
   "metadata": {},
   "source": [
    "Создаем модель"
   ]
  },
  {
   "cell_type": "code",
   "execution_count": 6,
   "metadata": {},
   "outputs": [
    {
     "data": {
      "text/plain": [
       "'DONE!'"
      ]
     },
     "execution_count": 6,
     "metadata": {},
     "output_type": "execute_result"
    }
   ],
   "source": [
    "requests.post('http://127.0.0.1:5000/api/create_model', json={'model_name': 'LogisticRegression',}).text"
   ]
  },
  {
   "cell_type": "code",
   "execution_count": 7,
   "metadata": {
    "ExecuteTime": {
     "end_time": "2021-10-29T15:19:35.450359Z",
     "start_time": "2021-10-29T15:19:35.434395Z"
    }
   },
   "outputs": [
    {
     "data": {
      "text/plain": [
       "{'model': 'Not fitted',\n",
       " 'model_id': 1,\n",
       " 'model_name': 'LogisticRegression',\n",
       " 'scores': {},\n",
       " 'task_type': 'binary'}"
      ]
     },
     "execution_count": 7,
     "metadata": {},
     "output_type": "execute_result"
    }
   ],
   "source": [
    "requests.get('http://127.0.0.1:5000/api/get_model/1').json()"
   ]
  },
  {
   "cell_type": "markdown",
   "metadata": {},
   "source": [
    "Обучаем модель"
   ]
  },
  {
   "cell_type": "code",
   "execution_count": 8,
   "metadata": {},
   "outputs": [
    {
     "data": {
      "text/plain": [
       "'DONE!'"
      ]
     },
     "execution_count": 8,
     "metadata": {},
     "output_type": "execute_result"
    }
   ],
   "source": [
    "params = {'data': X_train.to_dict()}\n",
    "\n",
    "requests.put('http://127.0.0.1:5000/api/fit/1', json=params).text"
   ]
  },
  {
   "cell_type": "code",
   "execution_count": 9,
   "metadata": {},
   "outputs": [
    {
     "data": {
      "text/plain": [
       "{'model': 'Fitted',\n",
       " 'model_id': 1,\n",
       " 'model_name': 'LogisticRegression',\n",
       " 'scores': {},\n",
       " 'task_type': 'binary'}"
      ]
     },
     "execution_count": 9,
     "metadata": {},
     "output_type": "execute_result"
    }
   ],
   "source": [
    "requests.get('http://127.0.0.1:5000/api/get_model/1').json()"
   ]
  },
  {
   "cell_type": "markdown",
   "metadata": {},
   "source": [
    "Делаем предсказание"
   ]
  },
  {
   "cell_type": "code",
   "execution_count": 10,
   "metadata": {},
   "outputs": [],
   "source": [
    "preds = requests.put('http://127.0.0.1:5000/api/predict_proba/1', json={'X': X_test.drop(columns='target').to_dict()}).json()"
   ]
  },
  {
   "cell_type": "markdown",
   "metadata": {},
   "source": [
    "Смотрим качество модели"
   ]
  },
  {
   "cell_type": "code",
   "execution_count": 11,
   "metadata": {},
   "outputs": [
    {
     "data": {
      "text/plain": [
       "{'model': 'Fitted',\n",
       " 'model_id': 1,\n",
       " 'model_name': 'LogisticRegression',\n",
       " 'scores': {'roc_auc_score': 0.9509193521470962},\n",
       " 'task_type': 'binary'}"
      ]
     },
     "execution_count": 11,
     "metadata": {},
     "output_type": "execute_result"
    }
   ],
   "source": [
    "params = {'data': X_test.to_dict()}\n",
    "\n",
    "requests.put('http://127.0.0.1:5000/api/get_scores/1', json=params).json()"
   ]
  },
  {
   "cell_type": "code",
   "execution_count": null,
   "metadata": {},
   "outputs": [],
   "source": []
  }
 ],
 "metadata": {
  "kernelspec": {
   "display_name": "Python 3",
   "language": "python",
   "name": "python3"
  },
  "language_info": {
   "codemirror_mode": {
    "name": "ipython",
    "version": 3
   },
   "file_extension": ".py",
   "mimetype": "text/x-python",
   "name": "python",
   "nbconvert_exporter": "python",
   "pygments_lexer": "ipython3",
   "version": "3.8.8"
  }
 },
 "nbformat": 4,
 "nbformat_minor": 4
}
